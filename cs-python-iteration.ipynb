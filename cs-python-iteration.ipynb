{
 "cells": [
  {
   "cell_type": "markdown",
   "metadata": {},
   "source": [
    "# Practicing FOR Loops in Python\n",
    "\n",
    "Syntax:\n",
    "\n",
    "```\n",
    "for loopVar in range(start, stop, step):\n",
    "    #indent - do what you need to do here\n",
    "\n",
    "#dedent - loop is done. Do other non-loop stuff here\n",
    "```"
   ]
  },
  {
   "cell_type": "markdown",
   "metadata": {},
   "source": [
    "## Task 1: Tweak task 2 so that it will ask the user to enter their name and a number and then display their name that number of times."
   ]
  },
  {
   "cell_type": "code",
   "execution_count": null,
   "metadata": {},
   "outputs": [],
   "source": [
    "Name = input(\"Enter your name: \")\n",
    "num = int(input(\"Enter number: \"))\n",
    "",
    "for i in range(num):\n",
    "    print(Name)\n"
   ]
  },
  {
   "cell_type": "markdown",
   "metadata": {},
   "source": [
    "## Task 2: Ask the user to enter their name and then display their name three times"
   ]
  },
  {
   "cell_type": "code",
   "execution_count": null,
   "metadata": {},
   "outputs": [],
   "source": [
    "Name = input(\"Enter your name: \")\n",
    "num = 3\n",
    "\n",
    "for i in range(num):\n",
    "    print(Name)"
   ]
  },
  {
   "cell_type": "markdown",
   "metadata": {},
   "source": [
    "## Task 3: Using a FOR loop, write a Python program to find the sum of all even numbers from 0 to 50"
   ]
  },
  {
   "cell_type": "code",
   "execution_count": null,
   "metadata": {},
   "outputs": [],
   "source": [
    "Even_num = 0\n",
    "",
    "for number in range(51):\n",
    "if number % 2 == 0:\n",
    "   Even_num = Even_num + number\n",
    "print(Even_num)\n"
   ]
  },
  {
   "cell_type": "markdown",
   "metadata": {},
   "source": [
    "## Task 4: Ask for a number below 50 and count down from 50 to that number."
   ]
  },
  {
   "cell_type": "code",
   "execution_count": 1,
   "metadata": {},
   "outputs": [],
   "source": [
    "Num = int(input(\"Enter a number below 50: \"))\n",
    "Constant_num = 50\n",
    "number = 50 - Num\n",
    "for number in range(number):\n",
        "Constant_num = Constant_num -1\n",
        "print(Constant_num)\n"
   ]
  },
  {
   "cell_type": "markdown",
   "metadata": {},
   "source": [
    "## Task 5: Ask the user to enter a number between 1 and 12 and then display the times table for that number."
   ]
  },
  {
   "cell_type": "code",
   "execution_count": null,
   "metadata": {},
   "outputs": [],
   "source": [
    "Num = int(input(\"Enter a numebr beteen 1 and 12: \"))\n",
    "Time_table = 0\n",
    "for number in range(1, 13):\n",
        "Time_table = Num * number\n",
        "print(Time_table)\n"
   ]
  },
  {
   "cell_type": "markdown",
   "metadata": {},
   "source": [
    "## Task 6: Ask the user to enter their name and a number. If the number is less than 10 then display their name that number of times. Otherwise display the message \"Too high\" twice."
   ]
  },
  {
   "cell_type": "code",
   "execution_count": null,
   "metadata": {},
   "outputs": [],
   "source": [
    "Name = input(\"Enter your name: \")\n",
    "num = int(input(\"Enter number a below 10: \"))\n",
    "if num > 10:\n",
    "    print(\"Too high!\")\n",
    "    print(\"Too high!\")\n",
    "else:\n",
    "    for i in range(num):\n",
    "        print(Name)\n"
   ]
  },
  {
   "cell_type": "markdown",
   "metadata": {},
   "source": [
    "## Stretch task 1: Write a Python program to construct the following pattern, using a nested for loop. \n",
    "\n",
    "@\n",
    "\n",
    "@@\n",
    "\n",
    "@@@\n",
    "\n",
    "@@@@\n",
    "\n",
    "@@@\n",
    "\n",
    "@@\n",
    "\n",
    "@\n"
   ]
  },
  {
   "cell_type": "code",
   "execution_count": null,
   "metadata": {},
   "outputs": [],
   "source": [
    "Pattern  = \" \"\n",
    "for i in range(1, 5):\n",
    "    Pattern = Pattern + \"@\"\n",
    "    print(Pattern)\n",
    "",    
    "   if i == 4:\n",
    "       for j in range(1, 5):\n",
    "           Pattern = Pattern.replace('@','', 1)\n",
    "           print(Pattern)\n"
   ]
  },
  {
   "cell_type": "markdown",
   "metadata": {},
   "source": [
    "## Example Function that uses loops - sumTo(num): takes a number as a parameter and adds all the numbers from 1 to that number\n",
    "The sumTo function has been done for you."
   ]
  },
  {
   "cell_type": "code",
   "execution_count": null,
   "metadata": {},
   "outputs": [],
   "source": [
    "#This function sums up all the numbers from 1 to num\n",
    "def sumTo(num):\n",
    "    sum=0\n",
    "    for i in range(1,num+1):\n",
    "        sum+=i # keep adding i into the sum - same as sum = sum +i\n",
    "    return sum"
   ]
  },
  {
   "cell_type": "markdown",
   "metadata": {},
   "source": [
    "See how the loop in the code above goes from 1 (inclusive) up to num+1 (but not including)?\n",
    "\n",
    "Also, see the line:\n",
    "\n",
    "```python\n",
    "sum+=i\n",
    "```\n",
    "\n",
    "This will keep adding the loop index i into the sum. It is cumulative! It is the same as:\n",
    "\n",
    "```python\n",
    "sum = sum+i\n",
    "```\n",
    "\n",
    "Run the code below to see the function in action and check for errors:"
   ]
  },
  {
   "cell_type": "code",
   "execution_count": null,
   "metadata": {},
   "outputs": [],
   "source": [
    "#run the function\n",
    "sumTo(100)"
   ]
  },
  {
   "cell_type": "code",
   "execution_count": null,
   "metadata": {},
   "outputs": [],
   "source": [
    "#run the function here with a different argument"
   ]
  },
  {
   "cell_type": "code",
   "execution_count": null,
   "metadata": {},
   "outputs": [],
   "source": [
    "#run the function here with a different argument"
   ]
  },
  {
   "cell_type": "code",
   "execution_count": null,
   "metadata": {},
   "outputs": [],
   "source": [
    "#run the function here with a different argument"
   ]
  },
  {
   "cell_type": "markdown",
   "metadata": {},
   "source": [
    "## Stretch task 2: Write a function which takes a number and returns true if a number is a prime. \n",
    "\n",
    "E.g. \n",
    "\n",
    "```python \n",
    "primeTest(17) = true, primeTest(15)=false\n",
    "```"
   ]
  },
  {
   "cell_type": "code",
   "execution_count": null,
   "metadata": {},
   "outputs": [],
   "source": [
    "def primeTest(num):\n",
     "square_root = 0\n",
     "is_prime = True\n",
     "square_root = num ** 0.5\n",
     "if num <= 1:\n",
     "   return False\n",
     "elif num == 2 or num == 3 or num == 5 or num == 7:\n",
     "   return True\n",
     "elif num > 2 and num % 2==0:\n",
      "  return False\n",
     "",
     "for i in range(3, int(square_root), 2):\n",
     "   if num % i == 0:\n",
     "      return False\n",
     "   else:\n",
     "       return True\n",
     "",
    "print(primeTest(17))\n"
   ]
  },
  {
   "cell_type": "code",
   "execution_count": null,
   "metadata": {},
   "outputs": [],
   "source": [
    "# run the function\n",
    "primeTest(17)"
   ]
  }
 ],
 "metadata": {
  "kernelspec": {
   "display_name": "Python 3",
   "language": "python",
   "name": "python3"
  },
  "language_info": {
   "codemirror_mode": {
    "name": "ipython",
    "version": 3
   },
   "file_extension": ".py",
   "mimetype": "text/x-python",
   "name": "python",
   "nbconvert_exporter": "python",
   "pygments_lexer": "ipython3",
   "version": "3.6.8"
  }
 },
 "nbformat": 4,
 "nbformat_minor": 2
}
